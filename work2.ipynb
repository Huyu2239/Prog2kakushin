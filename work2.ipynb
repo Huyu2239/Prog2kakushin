{
  "nbformat": 4,
  "nbformat_minor": 0,
  "metadata": {
    "colab": {
      "provenance": [],
      "authorship_tag": "ABX9TyMgcFHNktWq8ZPul9sMrMbt",
      "include_colab_link": true
    },
    "kernelspec": {
      "name": "python3",
      "display_name": "Python 3"
    },
    "language_info": {
      "name": "python"
    }
  },
  "cells": [
    {
      "cell_type": "markdown",
      "metadata": {
        "id": "view-in-github",
        "colab_type": "text"
      },
      "source": [
        "<a href=\"https://colab.research.google.com/github/Huyu2239/Prog2kakushin/blob/work2/work2.ipynb\" target=\"_parent\"><img src=\"https://colab.research.google.com/assets/colab-badge.svg\" alt=\"Open In Colab\"/></a>"
      ]
    },
    {
      "cell_type": "markdown",
      "source": [
        "# 第13回(1/12) numpy\n",
        "- ２つの行列,`A`と`B`を入力\n",
        "- `A`と`B`について以下の項目について出力(随時追加)\n",
        "    - 逆行列\n",
        "    - 転置\n",
        "    - Rank\n",
        "    - 積"
      ],
      "metadata": {
        "id": "8YaXJ7n82aPR"
      }
    },
    {
      "cell_type": "code",
      "execution_count": null,
      "metadata": {
        "id": "esWDddpGzd5u"
      },
      "outputs": [],
      "source": []
    }
  ]
}