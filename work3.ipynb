{
  "nbformat": 4,
  "nbformat_minor": 0,
  "metadata": {
    "colab": {
      "provenance": [],
      "authorship_tag": "ABX9TyOjyHl6vrZocC1zn6Nu4iLQ",
      "include_colab_link": true
    },
    "kernelspec": {
      "name": "python3",
      "display_name": "Python 3"
    },
    "language_info": {
      "name": "python"
    }
  },
  "cells": [
    {
      "cell_type": "markdown",
      "metadata": {
        "id": "view-in-github",
        "colab_type": "text"
      },
      "source": [
        "<a href=\"https://colab.research.google.com/github/Huyu2239/Prog2kakushin/blob/work3/work3.ipynb\" target=\"_parent\"><img src=\"https://colab.research.google.com/assets/colab-badge.svg\" alt=\"Open In Colab\"/></a>"
      ]
    },
    {
      "cell_type": "markdown",
      "source": [
        "# 第14回(1/19) turtle, opencv\n",
        "- キャンパスのサイズを受け取る\n",
        "- 入力されたコマンドどおりに描画する\n",
        "- そのキャンパスを画像として保存\n",
        "- モノクロに変換し、画素数をグラフとして出力"
      ],
      "metadata": {
        "id": "qhh8LU2B4ETo"
      }
    },
    {
      "cell_type": "markdown",
      "source": [
        "モジュールセットアップ"
      ],
      "metadata": {
        "id": "dsXaD6-KneB7"
      }
    },
    {
      "cell_type": "code",
      "execution_count": 45,
      "metadata": {
        "id": "esWDddpGzd5u",
        "outputId": "6a816715-65d7-4e59-9802-9c774f165d45",
        "colab": {
          "base_uri": "https://localhost:8080/"
        }
      },
      "outputs": [
        {
          "output_type": "stream",
          "name": "stdout",
          "text": [
            "Looking in indexes: https://pypi.org/simple, https://us-python.pkg.dev/colab-wheels/public/simple/\n",
            "Requirement already satisfied: ColabTurtlePlus in /usr/local/lib/python3.8/dist-packages (2.0.1)\n",
            "Looking in indexes: https://pypi.org/simple, https://us-python.pkg.dev/colab-wheels/public/simple/\n",
            "Requirement already satisfied: svglib in /usr/local/lib/python3.8/dist-packages (1.5.1)\n",
            "Requirement already satisfied: reportlab in /usr/local/lib/python3.8/dist-packages (from svglib) (3.6.12)\n",
            "Requirement already satisfied: lxml in /usr/local/lib/python3.8/dist-packages (from svglib) (4.9.2)\n",
            "Requirement already satisfied: cssselect2>=0.2.0 in /usr/local/lib/python3.8/dist-packages (from svglib) (0.7.0)\n",
            "Requirement already satisfied: tinycss2>=0.6.0 in /usr/local/lib/python3.8/dist-packages (from svglib) (1.2.1)\n",
            "Requirement already satisfied: webencodings in /usr/local/lib/python3.8/dist-packages (from cssselect2>=0.2.0->svglib) (0.5.1)\n",
            "Requirement already satisfied: pillow>=9.0.0 in /usr/local/lib/python3.8/dist-packages (from reportlab->svglib) (9.4.0)\n"
          ]
        }
      ],
      "source": [
        "!pip3 install ColabTurtlePlus\n",
        "from ColabTurtlePlus.Turtle import *\n",
        "!pip3 install svglib\n",
        "from svglib.svglib import svg2rlg\n",
        "from reportlab.graphics import renderPM\n",
        "import os\n",
        "import sys\n",
        "import cv2\n",
        "from google.colab.patches import cv2_imshow\n",
        "import matplotlib.pyplot as plt\n",
        "import numpy as np"
      ]
    },
    {
      "cell_type": "markdown",
      "source": [
        "画像のサイズを受け取り"
      ],
      "metadata": {
        "id": "mNrazw2XnhG3"
      }
    },
    {
      "cell_type": "markdown",
      "source": [],
      "metadata": {
        "id": "KENY5SpDxjju"
      }
    },
    {
      "cell_type": "code",
      "source": [
        "input_str = input(\"描画する画像のサイズを整数で入力してください。: \")\n",
        "\n",
        "if len(input_str.split()) != 2:\n",
        "    print(f\"Error:{len(input_str.split())}つの要素が渡されました。2つ渡してください。\")\n",
        "    sys.exit()\n",
        "\n",
        "if \".\" in input_str:\n",
        "    print(\"Error:小数が渡されました。整数を入力してください。\")\n",
        "    sys.exit()\n",
        "\n",
        "try:\n",
        "    x, y = map(int, input_str.split())\n",
        "except ValueError as e:\n",
        "    if str(e).startswith(\"invalid literal for int() with base 10:\"):\n",
        "        print(\"Error:文字列が渡されました。整数を入力してください。\")\n",
        "    else:\n",
        "        print(e, type(e))\n",
        "    sys.exit()\n",
        "except Exception as e:\n",
        "    print(e, type(e))\n",
        "    sys.exit()\n",
        "\n",
        "print(x, y)\n",
        "clearscreen()\n",
        "setup(x, y)"
      ],
      "metadata": {
        "id": "6RgQ_Cq5nkfa",
        "outputId": "0b6f0b64-2e22-4b6a-e90e-b79d9f868d0d",
        "colab": {
          "base_uri": "https://localhost:8080/",
          "height": 455
        }
      },
      "execution_count": 68,
      "outputs": [
        {
          "output_type": "stream",
          "name": "stdout",
          "text": [
            "描画する画像のサイズを整数で入力してください。: 400 400\n",
            "400 400\n"
          ]
        },
        {
          "output_type": "display_data",
          "data": {
            "text/plain": [
              "<IPython.core.display.HTML object>"
            ],
            "text/html": [
              "\n",
              "      <svg width=\"400\" height=\"400\">  \n",
              "        <rect width=\"100%\" height=\"100%\" style=\"fill:white;stroke:;stroke-width:1\"/>\n",
              "        \n",
              "        \n",
              "        \n",
              "        \n",
              "        \n",
              "        \n",
              "      </svg>\n",
              "    "
            ]
          },
          "metadata": {}
        }
      ]
    },
    {
      "cell_type": "markdown",
      "source": [
        "コード受け取り\n",
        "```\n",
        "注意点\n",
        "・筆は Turtle のみ\n",
        "・最低1つ変数名を turtle に\n",
        "・Turtle.speed を大きく設定すると、バグで線が出る可能性あり(時間があればissue出します)\n",
        "```"
      ],
      "metadata": {
        "id": "7V57BPMLt7k5"
      }
    },
    {
      "cell_type": "code",
      "source": [
        "# ここに描きたいものを入力\n",
        "turtle = Turtle()\n",
        "turtle.shape(\"turtle\")\n",
        "turtle.speed(13)\n",
        "turtle.pencolor(\"red\")\n",
        "turtle.fillcolor(\"yellow\")\n",
        "\n",
        "for _ in range(6):\n",
        "    turtle.forward(150)\n",
        "    turtle.backward(150)\n",
        "    turtle.right(60)\n",
        "\n",
        "\n",
        "r = 150\n",
        "l = 150\n",
        "for _ in range(10):\n",
        "    turtle.goto(0,0)\n",
        "    turtle.forward(r)\n",
        "    turtle.right(120)\n",
        "    for __ in range(6):\n",
        "        turtle.forward(l)\n",
        "        turtle.right(60)\n",
        "    l -= 20\n",
        "    r -= 20\n"
      ],
      "metadata": {
        "id": "SaJtlw6tVn_J",
        "outputId": "1bd749d6-b844-4676-e7fb-fdc5a5fea284",
        "colab": {
          "base_uri": "https://localhost:8080/",
          "height": 420
        }
      },
      "execution_count": 69,
      "outputs": [
        {
          "output_type": "display_data",
          "data": {
            "text/plain": [
              "<IPython.core.display.HTML object>"
            ],
            "text/html": [
              "\n",
              "      <svg width=\"400\" height=\"400\">  \n",
              "        <rect width=\"100%\" height=\"100%\" style=\"fill:white;stroke:;stroke-width:1\"/>\n",
              "        \n",
              "        \n",
              "        <line x1=\"200.0\" y1=\"200.0\" x2=\"350.0\" y2=\"200.0\" stroke-linecap=\"round\" style=\"stroke:red;stroke-width:1\" /><line x1=\"350.0\" y1=\"200.0\" x2=\"200.0\" y2=\"200.0\" stroke-linecap=\"round\" style=\"stroke:red;stroke-width:1\" /><line x1=\"200.0\" y1=\"200.0\" x2=\"275.0\" y2=\"329.904\" stroke-linecap=\"round\" style=\"stroke:red;stroke-width:1\" /><line x1=\"275.0\" y1=\"329.904\" x2=\"200.0\" y2=\"200.0\" stroke-linecap=\"round\" style=\"stroke:red;stroke-width:1\" /><line x1=\"200.0\" y1=\"200.0\" x2=\"125.0\" y2=\"329.904\" stroke-linecap=\"round\" style=\"stroke:red;stroke-width:1\" /><line x1=\"125.0\" y1=\"329.904\" x2=\"200.0\" y2=\"200.0\" stroke-linecap=\"round\" style=\"stroke:red;stroke-width:1\" /><line x1=\"200.0\" y1=\"200.0\" x2=\"50.0\" y2=\"200.0\" stroke-linecap=\"round\" style=\"stroke:red;stroke-width:1\" /><line x1=\"50.0\" y1=\"200.0\" x2=\"200.0\" y2=\"200.0\" stroke-linecap=\"round\" style=\"stroke:red;stroke-width:1\" /><line x1=\"200.0\" y1=\"200.0\" x2=\"125.0\" y2=\"70.096\" stroke-linecap=\"round\" style=\"stroke:red;stroke-width:1\" /><line x1=\"125.0\" y1=\"70.096\" x2=\"200.0\" y2=\"200.0\" stroke-linecap=\"round\" style=\"stroke:red;stroke-width:1\" /><line x1=\"200.0\" y1=\"200.0\" x2=\"275.0\" y2=\"70.096\" stroke-linecap=\"round\" style=\"stroke:red;stroke-width:1\" /><line x1=\"275.0\" y1=\"70.096\" x2=\"200.0\" y2=\"200.0\" stroke-linecap=\"round\" style=\"stroke:red;stroke-width:1\" /><line x1=\"200.0\" y1=\"200.0\" x2=\"200.0\" y2=\"200.0\" stroke-linecap=\"round\" style=\"stroke:red;stroke-width:1\" /><line x1=\"200.0\" y1=\"200.0\" x2=\"350.0\" y2=\"200.0\" stroke-linecap=\"round\" style=\"stroke:red;stroke-width:1\" /><line x1=\"350.0\" y1=\"200.0\" x2=\"275.0\" y2=\"329.904\" stroke-linecap=\"round\" style=\"stroke:red;stroke-width:1\" /><line x1=\"275.0\" y1=\"329.904\" x2=\"125.0\" y2=\"329.904\" stroke-linecap=\"round\" style=\"stroke:red;stroke-width:1\" /><line x1=\"125.0\" y1=\"329.904\" x2=\"50.0\" y2=\"200.0\" stroke-linecap=\"round\" style=\"stroke:red;stroke-width:1\" /><line x1=\"50.0\" y1=\"200.0\" x2=\"125.0\" y2=\"70.096\" stroke-linecap=\"round\" style=\"stroke:red;stroke-width:1\" /><line x1=\"125.0\" y1=\"70.096\" x2=\"275.0\" y2=\"70.096\" stroke-linecap=\"round\" style=\"stroke:red;stroke-width:1\" /><line x1=\"275.0\" y1=\"70.096\" x2=\"350.0\" y2=\"200.0\" stroke-linecap=\"round\" style=\"stroke:red;stroke-width:1\" /><line x1=\"350.0\" y1=\"200.0\" x2=\"200.0\" y2=\"200.0\" stroke-linecap=\"round\" style=\"stroke:red;stroke-width:1\" /><line x1=\"200.0\" y1=\"200.0\" x2=\"135.0\" y2=\"312.583\" stroke-linecap=\"round\" style=\"stroke:red;stroke-width:1\" /><line x1=\"135.0\" y1=\"312.583\" x2=\"70.0\" y2=\"200.0\" stroke-linecap=\"round\" style=\"stroke:red;stroke-width:1\" /><line x1=\"70.0\" y1=\"200.0\" x2=\"135.0\" y2=\"87.417\" stroke-linecap=\"round\" style=\"stroke:red;stroke-width:1\" /><line x1=\"135.0\" y1=\"87.417\" x2=\"265.0\" y2=\"87.417\" stroke-linecap=\"round\" style=\"stroke:red;stroke-width:1\" /><line x1=\"265.0\" y1=\"87.417\" x2=\"330.0\" y2=\"200.0\" stroke-linecap=\"round\" style=\"stroke:red;stroke-width:1\" /><line x1=\"330.0\" y1=\"200.0\" x2=\"265.0\" y2=\"312.583\" stroke-linecap=\"round\" style=\"stroke:red;stroke-width:1\" /><line x1=\"265.0\" y1=\"312.583\" x2=\"135.0\" y2=\"312.583\" stroke-linecap=\"round\" style=\"stroke:red;stroke-width:1\" /><line x1=\"135.0\" y1=\"312.583\" x2=\"200.0\" y2=\"200.0\" stroke-linecap=\"round\" style=\"stroke:red;stroke-width:1\" /><line x1=\"200.0\" y1=\"200.0\" x2=\"145.0\" y2=\"104.737\" stroke-linecap=\"round\" style=\"stroke:red;stroke-width:1\" /><line x1=\"145.0\" y1=\"104.737\" x2=\"255.0\" y2=\"104.737\" stroke-linecap=\"round\" style=\"stroke:red;stroke-width:1\" /><line x1=\"255.0\" y1=\"104.737\" x2=\"310.0\" y2=\"200.0\" stroke-linecap=\"round\" style=\"stroke:red;stroke-width:1\" /><line x1=\"310.0\" y1=\"200.0\" x2=\"255.0\" y2=\"295.263\" stroke-linecap=\"round\" style=\"stroke:red;stroke-width:1\" /><line x1=\"255.0\" y1=\"295.263\" x2=\"145.0\" y2=\"295.263\" stroke-linecap=\"round\" style=\"stroke:red;stroke-width:1\" /><line x1=\"145.0\" y1=\"295.263\" x2=\"90.0\" y2=\"200.0\" stroke-linecap=\"round\" style=\"stroke:red;stroke-width:1\" /><line x1=\"90.0\" y1=\"200.0\" x2=\"145.0\" y2=\"104.737\" stroke-linecap=\"round\" style=\"stroke:red;stroke-width:1\" /><line x1=\"145.0\" y1=\"104.737\" x2=\"200.0\" y2=\"200.0\" stroke-linecap=\"round\" style=\"stroke:red;stroke-width:1\" /><line x1=\"200.0\" y1=\"200.0\" x2=\"290.0\" y2=\"200.0\" stroke-linecap=\"round\" style=\"stroke:red;stroke-width:1\" /><line x1=\"290.0\" y1=\"200.0\" x2=\"245.0\" y2=\"277.942\" stroke-linecap=\"round\" style=\"stroke:red;stroke-width:1\" /><line x1=\"245.0\" y1=\"277.942\" x2=\"155.0\" y2=\"277.942\" stroke-linecap=\"round\" style=\"stroke:red;stroke-width:1\" /><line x1=\"155.0\" y1=\"277.942\" x2=\"110.0\" y2=\"200.0\" stroke-linecap=\"round\" style=\"stroke:red;stroke-width:1\" /><line x1=\"110.0\" y1=\"200.0\" x2=\"155.0\" y2=\"122.058\" stroke-linecap=\"round\" style=\"stroke:red;stroke-width:1\" /><line x1=\"155.0\" y1=\"122.058\" x2=\"245.0\" y2=\"122.058\" stroke-linecap=\"round\" style=\"stroke:red;stroke-width:1\" /><line x1=\"245.0\" y1=\"122.058\" x2=\"290.0\" y2=\"200.0\" stroke-linecap=\"round\" style=\"stroke:red;stroke-width:1\" /><line x1=\"290.0\" y1=\"200.0\" x2=\"200.0\" y2=\"200.0\" stroke-linecap=\"round\" style=\"stroke:red;stroke-width:1\" /><line x1=\"200.0\" y1=\"200.0\" x2=\"165.0\" y2=\"260.622\" stroke-linecap=\"round\" style=\"stroke:red;stroke-width:1\" /><line x1=\"165.0\" y1=\"260.622\" x2=\"130.0\" y2=\"200.0\" stroke-linecap=\"round\" style=\"stroke:red;stroke-width:1\" /><line x1=\"130.0\" y1=\"200.0\" x2=\"165.0\" y2=\"139.378\" stroke-linecap=\"round\" style=\"stroke:red;stroke-width:1\" /><line x1=\"165.0\" y1=\"139.378\" x2=\"235.0\" y2=\"139.378\" stroke-linecap=\"round\" style=\"stroke:red;stroke-width:1\" /><line x1=\"235.0\" y1=\"139.378\" x2=\"270.0\" y2=\"200.0\" stroke-linecap=\"round\" style=\"stroke:red;stroke-width:1\" /><line x1=\"270.0\" y1=\"200.0\" x2=\"235.0\" y2=\"260.622\" stroke-linecap=\"round\" style=\"stroke:red;stroke-width:1\" /><line x1=\"235.0\" y1=\"260.622\" x2=\"165.0\" y2=\"260.622\" stroke-linecap=\"round\" style=\"stroke:red;stroke-width:1\" /><line x1=\"165.0\" y1=\"260.622\" x2=\"200.0\" y2=\"200.0\" stroke-linecap=\"round\" style=\"stroke:red;stroke-width:1\" /><line x1=\"200.0\" y1=\"200.0\" x2=\"175.0\" y2=\"156.699\" stroke-linecap=\"round\" style=\"stroke:red;stroke-width:1\" /><line x1=\"175.0\" y1=\"156.699\" x2=\"225.0\" y2=\"156.699\" stroke-linecap=\"round\" style=\"stroke:red;stroke-width:1\" /><line x1=\"225.0\" y1=\"156.699\" x2=\"250.0\" y2=\"200.0\" stroke-linecap=\"round\" style=\"stroke:red;stroke-width:1\" /><line x1=\"250.0\" y1=\"200.0\" x2=\"225.0\" y2=\"243.301\" stroke-linecap=\"round\" style=\"stroke:red;stroke-width:1\" /><line x1=\"225.0\" y1=\"243.301\" x2=\"175.0\" y2=\"243.301\" stroke-linecap=\"round\" style=\"stroke:red;stroke-width:1\" /><line x1=\"175.0\" y1=\"243.301\" x2=\"150.0\" y2=\"200.0\" stroke-linecap=\"round\" style=\"stroke:red;stroke-width:1\" /><line x1=\"150.0\" y1=\"200.0\" x2=\"175.0\" y2=\"156.699\" stroke-linecap=\"round\" style=\"stroke:red;stroke-width:1\" /><line x1=\"175.0\" y1=\"156.699\" x2=\"200.0\" y2=\"200.0\" stroke-linecap=\"round\" style=\"stroke:red;stroke-width:1\" /><line x1=\"200.0\" y1=\"200.0\" x2=\"230.0\" y2=\"200.0\" stroke-linecap=\"round\" style=\"stroke:red;stroke-width:1\" /><line x1=\"230.0\" y1=\"200.0\" x2=\"215.0\" y2=\"225.981\" stroke-linecap=\"round\" style=\"stroke:red;stroke-width:1\" /><line x1=\"215.0\" y1=\"225.981\" x2=\"185.0\" y2=\"225.981\" stroke-linecap=\"round\" style=\"stroke:red;stroke-width:1\" /><line x1=\"185.0\" y1=\"225.981\" x2=\"170.0\" y2=\"200.0\" stroke-linecap=\"round\" style=\"stroke:red;stroke-width:1\" /><line x1=\"170.0\" y1=\"200.0\" x2=\"185.0\" y2=\"174.019\" stroke-linecap=\"round\" style=\"stroke:red;stroke-width:1\" /><line x1=\"185.0\" y1=\"174.019\" x2=\"215.0\" y2=\"174.019\" stroke-linecap=\"round\" style=\"stroke:red;stroke-width:1\" /><line x1=\"215.0\" y1=\"174.019\" x2=\"230.0\" y2=\"200.0\" stroke-linecap=\"round\" style=\"stroke:red;stroke-width:1\" /><line x1=\"230.0\" y1=\"200.0\" x2=\"200.0\" y2=\"200.0\" stroke-linecap=\"round\" style=\"stroke:red;stroke-width:1\" /><line x1=\"200.0\" y1=\"200.0\" x2=\"195.0\" y2=\"208.66\" stroke-linecap=\"round\" style=\"stroke:red;stroke-width:1\" /><line x1=\"195.0\" y1=\"208.66\" x2=\"190.0\" y2=\"200.0\" stroke-linecap=\"round\" style=\"stroke:red;stroke-width:1\" /><line x1=\"190.0\" y1=\"200.0\" x2=\"195.0\" y2=\"191.34\" stroke-linecap=\"round\" style=\"stroke:red;stroke-width:1\" /><line x1=\"195.0\" y1=\"191.34\" x2=\"205.0\" y2=\"191.34\" stroke-linecap=\"round\" style=\"stroke:red;stroke-width:1\" /><line x1=\"205.0\" y1=\"191.34\" x2=\"210.0\" y2=\"200.0\" stroke-linecap=\"round\" style=\"stroke:red;stroke-width:1\" /><line x1=\"210.0\" y1=\"200.0\" x2=\"205.0\" y2=\"208.66\" stroke-linecap=\"round\" style=\"stroke:red;stroke-width:1\" /><line x1=\"205.0\" y1=\"208.66\" x2=\"195.0\" y2=\"208.66\" stroke-linecap=\"round\" style=\"stroke:red;stroke-width:1\" /><line x1=\"195.0\" y1=\"208.66\" x2=\"200.0\" y2=\"200.0\" stroke-linecap=\"round\" style=\"stroke:red;stroke-width:1\" /><line x1=\"200.0\" y1=\"200.0\" x2=\"205.0\" y2=\"208.66\" stroke-linecap=\"round\" style=\"stroke:red;stroke-width:1\" /><line x1=\"205.0\" y1=\"208.66\" x2=\"195.0\" y2=\"208.66\" stroke-linecap=\"round\" style=\"stroke:red;stroke-width:1\" /><line x1=\"195.0\" y1=\"208.66\" x2=\"190.0\" y2=\"200.0\" stroke-linecap=\"round\" style=\"stroke:red;stroke-width:1\" /><line x1=\"190.0\" y1=\"200.0\" x2=\"195.0\" y2=\"191.34\" stroke-linecap=\"round\" style=\"stroke:red;stroke-width:1\" /><line x1=\"195.0\" y1=\"191.34\" x2=\"205.0\" y2=\"191.34\" stroke-linecap=\"round\" style=\"stroke:red;stroke-width:1\" /><line x1=\"205.0\" y1=\"191.34\" x2=\"210.0\" y2=\"200.0\" stroke-linecap=\"round\" style=\"stroke:red;stroke-width:1\" /><line x1=\"210.0\" y1=\"200.0\" x2=\"205.0\" y2=\"208.66\" stroke-linecap=\"round\" style=\"stroke:red;stroke-width:1\" /><line x1=\"205.0\" y1=\"208.66\" x2=\"200.0\" y2=\"200.0\" stroke-linecap=\"round\" style=\"stroke:red;stroke-width:1\" /><line x1=\"200.0\" y1=\"200.0\" x2=\"170.0\" y2=\"200.0\" stroke-linecap=\"round\" style=\"stroke:red;stroke-width:1\" /><line x1=\"170.0\" y1=\"200.0\" x2=\"185.0\" y2=\"174.019\" stroke-linecap=\"round\" style=\"stroke:red;stroke-width:1\" /><line x1=\"185.0\" y1=\"174.019\" x2=\"215.0\" y2=\"174.019\" stroke-linecap=\"round\" style=\"stroke:red;stroke-width:1\" /><line x1=\"215.0\" y1=\"174.019\" x2=\"230.0\" y2=\"200.0\" stroke-linecap=\"round\" style=\"stroke:red;stroke-width:1\" /><line x1=\"230.0\" y1=\"200.0\" x2=\"215.0\" y2=\"225.981\" stroke-linecap=\"round\" style=\"stroke:red;stroke-width:1\" /><line x1=\"215.0\" y1=\"225.981\" x2=\"185.0\" y2=\"225.981\" stroke-linecap=\"round\" style=\"stroke:red;stroke-width:1\" /><line x1=\"185.0\" y1=\"225.981\" x2=\"170.0\" y2=\"200.0\" stroke-linecap=\"round\" style=\"stroke:red;stroke-width:1\" />\n",
              "        \n",
              "        \n",
              "        <g id=\"turtle\" visibility=\"visible\" transform=\"rotate(150,170.0,200.0) translate(170.0, 200.0)\">\n",
              "<path style=\"stroke:red;fill-rule:evenodd;fill:yellow;fill-opacity:1;\" transform=\"skewX(0) scale(1,1)\" d=\"m 1.1536693,-18.56101 c -2.105469,1.167969 -3.203125,3.441407 -3.140625,6.5 l 0.011719,0.519532 -0.300782,-0.15625 c -1.308594,-0.671875 -2.828125,-0.824219 -4.378906,-0.429688 -1.9375,0.484375 -3.8906253,2.089844 -6.0117193,4.9257825 -1.332031,1.785156 -1.714843,2.644531 -1.351562,3.035156 l 0.113281,0.125 h 0.363281 c 0.71875,0 1.308594,-0.265625 4.6679693,-2.113282 1.199219,-0.660156 2.183594,-1.199218 2.191406,-1.199218 0.00781,0 -0.023437,0.089844 -0.074218,0.195312 -0.472657,1.058594 -1.046876,2.785156 -1.335938,4.042969 -1.054688,4.574219 -0.351562,8.453125 2.101562,11.582031 0.28125,0.355469 0.292969,0.253906 -0.097656,0.722656 -2.046875,2.4609375 -3.027344,4.8984375 -2.734375,6.8046875 0.050781,0.339844 0.042969,0.335938 0.679688,0.335938 2.023437,0 4.15625,-1.316407 6.21875,-3.835938 0.222656,-0.269531 0.191406,-0.261719 0.425781,-0.113281 0.730469,0.46875 2.460938,1.390625 2.613281,1.390625 0.160157,0 1.765625,-0.753906 2.652344,-1.246094 0.167969,-0.09375 0.308594,-0.164062 0.308594,-0.160156 0.066406,0.105468 0.761719,0.855468 1.085937,1.171875 1.613282,1.570312 3.339844,2.402343 5.3593747,2.570312 0.324219,0.02734 0.355469,0.0078 0.425781,-0.316406 0.375,-1.742187 -0.382812,-4.058594 -2.1445307,-6.5585935 l -0.320312,-0.457031 0.15625,-0.183594 c 3.2460927,-3.824218 3.4335927,-9.08593704 0.558593,-15.816406 l -0.050781,-0.125 1.7382807,0.859375 c 3.585938,1.773437 4.371094,2.097656 5.085938,2.097656 0.945312,0 0.75,-0.863281 -0.558594,-2.507812 C 11.458356,-11.838353 8.3333563,-13.268041 4.8607003,-11.721166 l -0.363281,0.164063 0.019531,-0.09375 c 0.121094,-0.550781 0.183594,-1.800781 0.121094,-2.378907 -0.203125,-1.867187 -1.035157,-3.199218 -2.695313,-4.308593 -0.523437,-0.351563 -0.546875,-0.355469 -0.789062,-0.222657\" />\n",
              "<animateTransform id = \"one\" attributeName=\"transform\" \n",
              "                      type=\"scale\"\n",
              "                      from=\"1 1\" to=\"1 1\"\n",
              "                      begin=\"0s\" dur=\"0.01s\"\n",
              "                      repeatCount=\"1\"\n",
              "                      additive=\"sum\"\n",
              "                      fill=\"freeze\"\n",
              "                /><animateTransform attributeName=\"transform\"\n",
              "                    type=\"rotate\"\n",
              "                    from=\"0 0 0\" to =\"60 0 0\"\n",
              "                    begin=\"one.end\" dur=\"0.003333333333333333s\"\n",
              "                    repeatCount=\"1\"\n",
              "                    additive=\"sum\"\n",
              "                    fill=\"freeze\"\n",
              "                /></g>\n",
              "      </svg>\n",
              "    "
            ]
          },
          "metadata": {}
        }
      ]
    },
    {
      "cell_type": "markdown",
      "source": [
        "pngファイル化＆表示"
      ],
      "metadata": {
        "id": "PesMpmJHt_sx"
      }
    },
    {
      "cell_type": "code",
      "source": [
        "turtle._screen.saveSVG(file=\"tmp.svg\", turtle=True)\n",
        "file_path = \"tmp.svg\"\n",
        "drawing = svg2rlg(file_path)\n",
        "renderPM.drawToFile(drawing, \"turtle.png\", fmt=\"PNG\")\n",
        "os.remove(\"tmp.svg\")\n",
        "\n",
        "img = cv2.imread(\"turtle.png\")\n",
        "if img is None:\n",
        "  sys.exit(\"Error: file not found\")\n",
        "\n",
        "cv2_imshow(img)"
      ],
      "metadata": {
        "id": "tWrEZOKcuNFz",
        "outputId": "17516e05-0853-435a-ff4d-58b301d46595",
        "colab": {
          "base_uri": "https://localhost:8080/",
          "height": 417
        }
      },
      "execution_count": 70,
      "outputs": [
        {
          "output_type": "display_data",
          "data": {
            "text/plain": [
              "<PIL.Image.Image image mode=RGB size=400x400>"
            ],
            "image/png": "[encoded data removed]"
          },
          "metadata": {}
        }
      ]
    },
    {
      "cell_type": "markdown",
      "source": [
        "モノクロにして、画素数をグラフ化して表示"
      ],
      "metadata": {
        "id": "ORPcoLjauC8Z"
      }
    },
    {
      "cell_type": "code",
      "source": [
        "img_gray = cv2.cvtColor(img, cv2.COLOR_BGR2GRAY)\n",
        "array = np.zeros(256)\n",
        "h = img_gray.shape[0]\n",
        "w = img_gray.shape[1]\n",
        "\n",
        "for iy in range(h):\n",
        "    for ix in range(w):\n",
        "        array[img_gray[iy,ix]] += 1\n",
        "\n",
        "plt.plot(array)\n",
        "plt.show()"
      ],
      "metadata": {
        "id": "Ue0eidCmxY1B",
        "outputId": "e5177c52-6af1-4d61-a952-8757c69a641c",
        "colab": {
          "base_uri": "https://localhost:8080/",
          "height": 265
        }
      },
      "execution_count": 71,
      "outputs": [
        {
          "output_type": "display_data",
          "data": {
            "text/plain": [
              "<Figure size 432x288 with 1 Axes>"
            ],
            "image/png": "[encoded data removed]"
          },
          "metadata": {
            "needs_background": "light"
          }
        }
      ]
    }
  ]
}