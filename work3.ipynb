{
  "nbformat": 4,
  "nbformat_minor": 0,
  "metadata": {
    "colab": {
      "provenance": [],
      "authorship_tag": "ABX9TyNDnqDIgtfpzC0eY9zgJnFq",
      "include_colab_link": true
    },
    "kernelspec": {
      "name": "python3",
      "display_name": "Python 3"
    },
    "language_info": {
      "name": "python"
    }
  },
  "cells": [
    {
      "cell_type": "markdown",
      "metadata": {
        "id": "view-in-github",
        "colab_type": "text"
      },
      "source": [
        "<a href=\"https://colab.research.google.com/github/Huyu2239/Prog2kakushin/blob/work3/work3.ipynb\" target=\"_parent\"><img src=\"https://colab.research.google.com/assets/colab-badge.svg\" alt=\"Open In Colab\"/></a>"
      ]
    },
    {
      "cell_type": "markdown",
      "source": [
        "# 第14回(1/19) turtle, opencv\n",
        "- キャンパスのサイズを受け取る\n",
        "- 入力されたコマンドどおりに描画する\n",
        "- そのキャンパスを画像として保存\n",
        "- モノクロに変換し、画素数をグラフとして出力"
      ],
      "metadata": {
        "id": "qhh8LU2B4ETo"
      }
    },
    {
      "cell_type": "code",
      "execution_count": null,
      "metadata": {
        "id": "esWDddpGzd5u"
      },
      "outputs": [],
      "source": []
    }
  ]
}