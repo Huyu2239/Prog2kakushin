{
  "nbformat": 4,
  "nbformat_minor": 0,
  "metadata": {
    "colab": {
      "provenance": [],
      "authorship_tag": "ABX9TyMf233MombseridG3Uhn5t6",
      "include_colab_link": true
    },
    "kernelspec": {
      "name": "python3",
      "display_name": "Python 3"
    },
    "language_info": {
      "name": "python"
    }
  },
  "cells": [
    {
      "cell_type": "markdown",
      "metadata": {
        "id": "view-in-github",
        "colab_type": "text"
      },
      "source": [
        "<a href=\"https://colab.research.google.com/github/Huyu2239/Prog2kakushin/blob/work1/work1.ipynb\" target=\"_parent\"><img src=\"https://colab.research.google.com/assets/colab-badge.svg\" alt=\"Open In Colab\"/></a>"
      ]
    },
    {
      "cell_type": "markdown",
      "source": [
        "# 第12回(12/22) pandas\n",
        "- 指定された任意の`csv`ファイルをダウンロード\n",
        "- `DataFrame`に変換\n",
        "- 入力されたコマンドどおりに`DataFrame`を処理\n"
      ],
      "metadata": {
        "id": "5VrciUYq0drN"
      }
    },
    {
      "cell_type": "markdown",
      "source": [
        "csvファイルダウンロード"
      ],
      "metadata": {
        "id": "9O--0urQLpf4"
      }
    },
    {
      "cell_type": "code",
      "source": [
        "import os\n",
        "\n",
        "\n",
        "file_url = input(\"ダウンロードするファイルのURLを入力してください: \")\n",
        "file_name = input(\"ダウンロードしたファイルの名前を入力してください: \") or \"csv_file.csv\"\n",
        "\n",
        "if not file_name.endswith(\".csv\"):\n",
        "    file_name = \"csv_file.csv\"\n",
        "    print(\"ファイル名が不適切なため、\\\"csv_file.csv\\\"に変更しました。\")\n",
        "\n",
        "os.system(f\"wget \\\"{file_url}\\\" -O {file_name}\")\n",
        "\n",
        "# https://drive.google.com/uc?export=download&id=10vpfTNC2HnmfZGFQ6kc9HsuEuQ62yN1G"
      ],
      "metadata": {
        "id": "i-ZVGIbmLtxj",
        "outputId": "4d9f8995-49fa-4cac-cd6e-64e0c88bf52d",
        "colab": {
          "base_uri": "https://localhost:8080/"
        }
      },
      "execution_count": 15,
      "outputs": [
        {
          "name": "stdout",
          "output_type": "stream",
          "text": [
            "ダウンロードするファイルのURLを入力してください: https://drive.google.com/uc?export=download&id=10vpfTNC2HnmfZGFQ6kc9HsuEuQ62yN1G\n",
            "ダウンロードしたファイルの名前を入力してください: aiueo.csv\n"
          ]
        },
        {
          "output_type": "execute_result",
          "data": {
            "text/plain": [
              "0"
            ]
          },
          "metadata": {},
          "execution_count": 15
        }
      ]
    }
  ]
}