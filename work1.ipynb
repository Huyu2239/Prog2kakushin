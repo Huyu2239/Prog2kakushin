{
  "nbformat": 4,
  "nbformat_minor": 0,
  "metadata": {
    "colab": {
      "provenance": [],
      "authorship_tag": "ABX9TyP2FPlDJ9WuQH/VeA3Fd54T",
      "include_colab_link": true
    },
    "kernelspec": {
      "name": "python3",
      "display_name": "Python 3"
    },
    "language_info": {
      "name": "python"
    }
  },
  "cells": [
    {
      "cell_type": "markdown",
      "metadata": {
        "id": "view-in-github",
        "colab_type": "text"
      },
      "source": [
        "<a href=\"https://colab.research.google.com/github/Huyu2239/Prog2kakushin/blob/work1/work1.ipynb\" target=\"_parent\"><img src=\"https://colab.research.google.com/assets/colab-badge.svg\" alt=\"Open In Colab\"/></a>"
      ]
    },
    {
      "cell_type": "markdown",
      "source": [
        "# 第12回(12/22) pandas\n",
        "- 指定された任意の`csv`ファイルをダウンロード\n",
        "- `DataFrame`に変換\n",
        "- 入力されたコマンドどおりに`DataFrame`を処理\n"
      ],
      "metadata": {
        "id": "5VrciUYq0drN"
      }
    },
    {
      "cell_type": "code",
      "execution_count": null,
      "metadata": {
        "id": "esWDddpGzd5u"
      },
      "outputs": [],
      "source": []
    }
  ]
}